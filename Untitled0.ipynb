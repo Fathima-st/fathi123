{
  "nbformat": 4,
  "nbformat_minor": 0,
  "metadata": {
    "colab": {
      "provenance": [],
      "authorship_tag": "ABX9TyOFIq+LIxirezQGbclAyfjQ",
      "include_colab_link": true
    },
    "kernelspec": {
      "name": "python3",
      "display_name": "Python 3"
    },
    "language_info": {
      "name": "python"
    }
  },
  "cells": [
    {
      "cell_type": "markdown",
      "metadata": {
        "id": "view-in-github",
        "colab_type": "text"
      },
      "source": [
        "<a href=\"https://colab.research.google.com/github/Fathima-st/fathi123/blob/main/Untitled0.ipynb\" target=\"_parent\"><img src=\"https://colab.research.google.com/assets/colab-badge.svg\" alt=\"Open In Colab\"/></a>"
      ]
    },
    {
      "cell_type": "code",
      "execution_count": 1,
      "metadata": {
        "colab": {
          "base_uri": "https://localhost:8080/"
        },
        "id": "I0GoODQztZPh",
        "outputId": "b8274f71-3ed6-4e47-cb77-86e33d8f0068"
      },
      "outputs": [
        {
          "output_type": "stream",
          "name": "stdout",
          "text": [
            "Enter number of rows: 2\n",
            "Enter number of columns: 2\n",
            "Enter elements of matrix A:\n",
            "2 3 \n",
            "3 4\n",
            "Enter elements of matrix B:\n",
            "1 2\n",
            "2 3\n",
            "Resultant matrix R:\n",
            "3 5 \n",
            "5 7 \n"
          ]
        }
      ],
      "source": [
        "def main():\n",
        "    # Read number of rows and columns\n",
        "    n = int(input(\"Enter number of rows: \"))\n",
        "    m = int(input(\"Enter number of columns: \"))\n",
        "\n",
        "    # Initialize matrices A and B\n",
        "    a = []\n",
        "    b = []\n",
        "\n",
        "    print(\"Enter elements of matrix A:\")\n",
        "    for i in range(n):\n",
        "        row = list(map(int, input().split()))\n",
        "        a.append(row)\n",
        "\n",
        "    print(\"Enter elements of matrix B:\")\n",
        "    for i in range(n):\n",
        "        row = list(map(int, input().split()))\n",
        "        b.append(row)\n",
        "\n",
        "    # Initialize result matrix R\n",
        "    r = [[0 for _ in range(m)] for _ in range(n)]\n",
        "\n",
        "    # Calculate the sum of matrices A and B and store it in R\n",
        "    for i in range(n):\n",
        "        for j in range(m):\n",
        "            r[i][j] = a[i][j] + b[i][j]\n",
        "\n",
        "    # Print the result matrix R\n",
        "    print(\"Resultant matrix R:\")\n",
        "    for i in range(n):\n",
        "        for j in range(m):\n",
        "            print(r[i][j], end=' ')\n",
        "        print()\n",
        "\n",
        "if __name__ == \"__main__\":\n",
        "    main()\n"
      ]
    }
  ]
}